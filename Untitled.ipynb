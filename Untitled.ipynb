{
 "cells": [
  {
   "cell_type": "code",
   "execution_count": null,
   "id": "871f289b",
   "metadata": {},
   "outputs": [],
   "source": [
    "import random\n",
    "import json\n",
    "from flask import  jsonify\n",
    "import numpy as np\n",
    "import tensorflow as tf\n",
    "\n",
    "\n",
    "from nltk_utils import bag_of_words, tokenize\n",
    "from data import all_words, tags\n",
    "\n",
    "with open('intents.json', 'r') as json_data:\n",
    "    intents = json.load(json_data)\n",
    "\n",
    "\n",
    "model = tf.keras.models.load_model('helena')\n",
    "print(model)\n",
    "entrada = \"\"\n",
    "bot_name = \"Helena\"\n",
    "\n",
    "def chat(entrada):\n",
    "    sentence = tokenize(entrada)\n",
    "    X = bag_of_words(sentence, all_words)\n",
    "    X = X.reshape(1, X.shape[0])\n",
    "    X = tf.convert_to_tensor(X)\n",
    "    output = model(X)\n",
    "    prob = output.numpy()\n",
    "    pred = np.argmax(prob)\n",
    "\n",
    "    tag = tags[pred]\n",
    "    response = \"\"\n",
    "    print(prob[0][pred])\n",
    "    if prob[0][pred] > 0.80:\n",
    "        for intent in intents['intents']:\n",
    "            if tag == intent[\"tag\"]:\n",
    "                response = (f\"{random.choice(intent['responses'])}\")\n",
    "    else:\n",
    "        response = (f\"Perdón no entiendo :( ...\")\n",
    "    print(response)\n",
    "    return jsonify({\"nombre\": bot_name,\"mensaje\":response})"
   ]
  },
  {
   "cell_type": "code",
   "execution_count": null,
   "id": "ccecb1a4",
   "metadata": {},
   "outputs": [],
   "source": []
  }
 ],
 "metadata": {
  "kernelspec": {
   "display_name": "Python 3.9 (tensorflow)",
   "language": "python",
   "name": "tensorflow"
  },
  "language_info": {
   "codemirror_mode": {
    "name": "ipython",
    "version": 3
   },
   "file_extension": ".py",
   "mimetype": "text/x-python",
   "name": "python",
   "nbconvert_exporter": "python",
   "pygments_lexer": "ipython3",
   "version": "3.9.15"
  }
 },
 "nbformat": 4,
 "nbformat_minor": 5
}
